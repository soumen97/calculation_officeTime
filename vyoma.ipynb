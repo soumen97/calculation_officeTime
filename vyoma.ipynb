{
 "cells": [
  {
   "cell_type": "code",
   "execution_count": 41,
   "metadata": {},
   "outputs": [],
   "source": [
    "from tkinter import *\n",
    "\n",
    "def btnInTime(): \n",
    "    global operator\n",
    "    operator=\"\"\n",
    "    text_Input.set(10.00)\n",
    "\n",
    "    \n",
    "def btnLunchtTime(): \n",
    "    global operator\n",
    "    operator=\"\"\n",
    "    text_Input.set(13.00)\n",
    "\n",
    "    \n",
    "def btnOutTime(): \n",
    "    global operator\n",
    "    operator=\"\"\n",
    "    text_Input.set(19.00)\n",
    "\n",
    "    \n",
    "    \n",
    "def btnClear():                                                         \n",
    "    global operator\n",
    "    operator=\"\"\n",
    "    text_Input.set(\"\")\n",
    "\n",
    "cal = Tk()                                                              \n",
    "cal.title('Worktime')                                                 \n",
    "operator=\"\"\n",
    "text_Input= StringVar()\n",
    "txtDisplay = Entry(cal, font=('arial',20,\"bold\"), textvariable=text_Input, bd=25, insertwidth=4,bg=\"powder blue\", justify=\"right\").grid(columnspan=4)\n",
    "\n",
    "btn_InTime=Button(cal,padx=16,bd=8, fg=\"black\",font=('arial',10,'bold'),text=\"InTime\",bg=\"powder blue\",command=btnInTime).grid(row=1,column=0)\n",
    "btn_LunchtTime=Button(cal,padx=16,bd=8, fg=\"black\",font=('arial',10,'bold'),text=\"LunchTime\",bg=\"powder blue\",command=btnLunchtTime).grid(row=1,column=1)\n",
    "btn_OutTime=Button(cal,padx=16,bd=8, fg=\"black\",font=('arial',10,'bold'),text=\"OutTime\",bg=\"powder blue\",command=btnOutTime).grid(row=1,column=2)\n",
    "btn_clear=Button(cal,padx=16,bd=8, fg=\"black\",font=('arial',10,'bold'),text=\"C\",bg=\"powder blue\",command=btnClear).grid(row=1,column=3)\n",
    "#Subtraction = Button (cal,padx=16, bd=8, fg=\"black\", font=('arial', 10, 'bold'),text=\"-\",command =lambda:btnClick(\"-\"),bg=\"powder blue\"). grid (row=2, column = 3)\n",
    "\n",
    "\n",
    "cal.mainloop()"
   ]
  },
  {
   "cell_type": "code",
   "execution_count": null,
   "metadata": {},
   "outputs": [],
   "source": [
    "\n"
   ]
  },
  {
   "cell_type": "code",
   "execution_count": null,
   "metadata": {},
   "outputs": [],
   "source": []
  },
  {
   "cell_type": "code",
   "execution_count": null,
   "metadata": {},
   "outputs": [],
   "source": []
  },
  {
   "cell_type": "code",
   "execution_count": null,
   "metadata": {},
   "outputs": [],
   "source": []
  },
  {
   "cell_type": "code",
   "execution_count": null,
   "metadata": {},
   "outputs": [],
   "source": []
  }
 ],
 "metadata": {
  "kernelspec": {
   "display_name": "Python 3",
   "language": "python",
   "name": "python3"
  },
  "language_info": {
   "codemirror_mode": {
    "name": "ipython",
    "version": 3
   },
   "file_extension": ".py",
   "mimetype": "text/x-python",
   "name": "python",
   "nbconvert_exporter": "python",
   "pygments_lexer": "ipython3",
   "version": "3.7.3"
  }
 },
 "nbformat": 4,
 "nbformat_minor": 2
}
